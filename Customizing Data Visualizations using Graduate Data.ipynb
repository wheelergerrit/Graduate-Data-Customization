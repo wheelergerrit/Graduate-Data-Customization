{
 "cells": [
  {
   "cell_type": "code",
   "execution_count": null,
   "metadata": {
    "collapsed": true
   },
   "outputs": [],
   "source": [
    "import pandas as pd\n",
    "import matplotlib.pyplot as plt\n",
    "%matplotlib inline\n",
    "​\n",
    "#You can find the data here: \n",
    "#https://github.com/fivethirtyeight/data/tree/master/college-majors\n",
    "​\n",
    "recent_grads = pd.read_csv(\"recent-grads.csv\")\n",
    "recent_grads.head(5)"
   ]
  },
  {
   "cell_type": "code",
   "execution_count": null,
   "metadata": {
    "collapsed": true
   },
   "outputs": [],
   "source": [
    "recent_grads.tail(5)"
   ]
  },
  {
   "cell_type": "code",
   "execution_count": null,
   "metadata": {
    "collapsed": true
   },
   "outputs": [],
   "source": [
    "recent_grads.describe()"
   ]
  },
  {
   "cell_type": "code",
   "execution_count": null,
   "metadata": {
    "collapsed": true
   },
   "outputs": [],
   "source": [
    "#We are first inspecting the data to see if there are NaN values\n",
    "print(\"Original df row numbers:\", recent_grads.shape[0])\n",
    "\n",
    "#Now, we will create a new df with all NaN's removed, and we will compare the \n",
    "#number of rows in each df\n",
    "recent_grads = recent_grads.dropna()\n",
    "print(\"Cleaned df row numbers:\", recent_grads.shape[0])"
   ]
  },
  {
   "cell_type": "markdown",
   "metadata": {},
   "source": [
    "The above cell tells us that there is one row containing NaN values\n",
    "In the cell below, we will use the Pandas method \"scatter_matrix\" to examine the relationship between Unemployment_rate and ShareWomen"
   ]
  },
  {
   "cell_type": "code",
   "execution_count": null,
   "metadata": {
    "collapsed": true
   },
   "outputs": [],
   "source": [
    "from pandas.tools.plotting import scatter_matrix\n",
    "scatter_matrix(recent_grads[['ShareWomen', 'Unemployment_rate']])"
   ]
  },
  {
   "cell_type": "markdown",
   "metadata": {},
   "source": [
    "The point of this exercise will be to create a custom plot that looks exactly like the one Pandas generated in order to gain a better understanding of the abstraction levels in matplotlib."
   ]
  },
  {
   "cell_type": "code",
   "execution_count": null,
   "metadata": {
    "collapsed": true
   },
   "outputs": [],
   "source": [
    "#Now, we will format the above plot a little more by using the Figure method\n",
    "fig = plt.figure(figsize=(8,6))\n",
    "\n",
    "#Creating 4 distinct subplots within the figure\n",
    "ax1 = fig.add_subplot(2,2,1)\n",
    "ax2 = fig.add_subplot(2,2,2)\n",
    "ax3 = fig.add_subplot(2,2,3)\n",
    "ax4 = fig.add_subplot(2,2,4)\n",
    "\n",
    "#We now create our 4 subplots to display the relationship in question\n",
    "ax1.hist(recent_grads['ShareWomen'])\n",
    "ax2.scatter(recent_grads['Unemployment_rate'], recent_grads['ShareWomen'])\n",
    "ax3.scatter(recent_grads['ShareWomen'], recent_grads['Unemployment_rate'])\n",
    "ax4.hist(recent_grads['Unemployment_rate'])\n",
    "\n",
    "#Now hiding the x-axes on the top 2 rows\n",
    "ax1.get_xaxis().set_visible(False)\n",
    "ax2.get_xaxis().set_visible(False)\n",
    "\n",
    "#Now hiding the y-axes on the left two columns\n",
    "ax2.get_yaxis().set_visible(False)\n",
    "ax4.get_yaxis().set_visible(False)\n",
    "\n",
    "#Now assigning the column names as the x- and y-axis labels:\n",
    "#For subplot 1, we set the y-axis to ShareWomen\n",
    "ax1.set_ylabel(\"ShareWomen\")\n",
    "\n",
    "#For subplot 3, we set the x-axis to ShareWomen and the y-axis label \n",
    "#to Unemploytment_rate\n",
    "ax3.set_xlabel(\"ShareWomen\")\n",
    "ax3.set_ylabel(\"Unemployment_rate\")\n",
    "\n",
    "#For subplot 4, we set the x-axis label to Unemployment_rate\n",
    "ax4.set_xlabel(\"Unemployment_rate\")\n",
    "\n",
    "#We now have to set the limits for the x-axes and y-axes, also rotate the labels:\n",
    "#For subplot 1, set the x-axis data limit to range from 0 to 30.\n",
    "#Also, we are adjusting the ticks to be out of the way and at certain intervals\n",
    "#We will also do this for the other subplots\n",
    "ax1.set_ylim(0,30)\n",
    "ax1.set_yticklabels([0,5,10,15,20,25,30])\n",
    "ax1.get_xaxis().tick_top()\n",
    "ax1.get_yaxis().tick_left()\n",
    "\n",
    "#For subplot 2, set the x-axis data limit to range from 0.0 to 1.0.\n",
    "ax2.set_xlim(0.0,0.20)\n",
    "\n",
    "#For subplot 3, set the x-axis data limit to range from 0.0 to 1.0\n",
    "#and, set the y-axis data limit to range from 0.0 to 0.20.\n",
    "ax3.set_ylim(0.00,0.20)\n",
    "ax3.set_xlim(0.0, 1.0)\n",
    "ax3.set_yticklabels([0.00, 0.05, 0.10, 0.15])\n",
    "ax3.set_xticklabels([0.0, 0.2, 0.4, 0.6, 0.8], rotation=90)\n",
    "ax3.get_xaxis().tick_bottom()\n",
    "ax3.get_yaxis().tick_left()\n",
    "\n",
    "#For subplot 4, set the x-axis data limit to range from 0.0 to 0.20.\n",
    "ax4.set_xlim(0.00,0.20)\n",
    "ax4.set_xticklabels([0.00, 0.05, 0.10, 0.15, 0.20], rotation=90)\n",
    "ax4.get_xaxis().tick_bottom()\n",
    "\n",
    "#We will now format space between figures further using subplots_adjust()\n",
    "fig.subplots_adjust(wspace=0, hspace=0)\n",
    "\n",
    "plt.show()"
   ]
  },
  {
   "cell_type": "code",
   "execution_count": null,
   "metadata": {
    "collapsed": true
   },
   "outputs": [],
   "source": [
    "#To create a grouped bar plot that shows genders by major, first we must \n",
    "#create a new column in the df that contains ShareMen\n",
    "recent_grads['ShareMen'] = recent_grads['Men'] / recent_grads['Total']"
   ]
  },
  {
   "cell_type": "code",
   "execution_count": null,
   "metadata": {
    "collapsed": true
   },
   "outputs": [],
   "source": [
    "import numpy as np\n",
    "\n",
    "#Now creating a df with just the \"Arts\" major category\n",
    "arts_df = recent_grads[recent_grads['Major_category'] == 'Arts']\n",
    "\n",
    "fig = plt.figure(figsize=(8,8))\n",
    "ax1 = fig.add_subplot(1,1,1)\n",
    "\n",
    "majors = len(set(arts_df['Major']))\n",
    "locs = np.arange(0, majors)\n",
    "\n",
    "bar_1 = ax1.bar(left=locs, height=arts_df['ShareMen'].tolist(), width=0.35)\n",
    "\n",
    "#Now changing the axes labels to the Major titles\n",
    "majors_list = arts_df['Major'].tolist()\n",
    "ax1.set_xticklabels(majors_list, rotation=90)\n",
    "\n",
    "#This next section will be adding in the ShareWomen so we get a better comparison\n",
    "offset_locs = locs + 0.35\n",
    "\n",
    "bar_2 = ax1.bar(left=offset_locs, height=arts_df['ShareWomen'].tolist(), \n",
    "                width=0.35, color='green')\n",
    "ax1.set_xticks(offset_locs)\n",
    "\n",
    "#Now adding a legend and a grid \n",
    "plt.legend((bar_1, bar_2), (\"ShareMen\", \"ShareWomen\"), loc=\"upper left\")\n",
    "plt.grid(which='major', axis='both')\n",
    "\n",
    "#Lastly, we will add some axes labels\n",
    "ax1.set_xlabel(\"Major\")\n",
    "ax1.set_ylabel(\"Frequency\")\n",
    "\n",
    "plt.show()"
   ]
  },
  {
   "cell_type": "markdown",
   "metadata": {},
   "source": [
    "Some follow up questions to answer with the data: Visualize the gender ratios for each major by creating a stacked box plot instead of a grouped bar plot. Practice generating histograms from scratch without relying on the Matplotlib method hist() Practice generating box plots using Matplotlib only.\n",
    "\n",
    "Write a function that takes in a DataFrame, takes in a list of column names, and generates a scatter matrix for combinations of columns. \n",
    "    While the scatter matrix you generated in this guided project used 2 columns, how can you generalize the code to handle n columns. \n",
    "        As n gets larger, how do you dynamically specify the figsize parameter when creating the Plot instance so the data visualization is legible with more subplots."
   ]
  }
 ],
 "metadata": {
  "kernelspec": {
   "display_name": "Python 3",
   "language": "python",
   "name": "python3"
  },
  "language_info": {
   "codemirror_mode": {
    "name": "ipython",
    "version": 3
   },
   "file_extension": ".py",
   "mimetype": "text/x-python",
   "name": "python",
   "nbconvert_exporter": "python",
   "pygments_lexer": "ipython3",
   "version": "3.5.1"
  }
 },
 "nbformat": 4,
 "nbformat_minor": 0
}
